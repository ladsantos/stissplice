{
 "cells": [
  {
   "cell_type": "markdown",
   "metadata": {},
   "source": [
    "How it works\n",
    "==========\n",
    "\n",
    "In this notebook we learn how the `stissplice` code works in more detail. We start by importing the necessary packages."
   ]
  },
  {
   "cell_type": "code",
   "execution_count": null,
   "metadata": {},
   "outputs": [],
   "source": [
    "import matplotlib.pyplot as plt\n",
    "import matplotlib.pylab as pylab\n",
    "from stissplice import splicer, tools\n",
    "import numpy as np\n",
    "\n",
    "# Uncomment the next line if you have a MacBook with retina screen\n",
    "# %config InlineBackend.figure_format = 'retina'\n",
    "pylab.rcParams['figure.figsize'] = 13.0,6.5\n",
    "pylab.rcParams['font.size'] = 18"
   ]
  },
  {
   "cell_type": "markdown",
   "metadata": {},
   "source": [
    "The workhorse of `stissplice` is the `splice_pipeline()` function. Here's how it works, step by step.\n",
    "\n",
    "1. Read an `_x1d` spectrum using `splicer.read_spectrum()`: This code uses `astropy.io.fits.open()` to read a `.fits` file and extract the wavelength, flux and error arrays."
   ]
  },
  {
   "cell_type": "code",
   "execution_count": null,
   "metadata": {},
   "outputs": [],
   "source": [
    "dataset = 'oblh01040'\n",
    "prefix = '../../data/'\n",
    "\n",
    "spectrum = splicer.read_spectrum(dataset, prefix)"
   ]
  },
  {
   "cell_type": "markdown",
   "metadata": {},
   "source": [
    "2. Find the overlap between the different spectral orders using `splicer.find_overlap()`: This code identifies the sections of the orders that are either unique (no overlap with any order) or that overlap once or twice with other orders. This function returns the variables `unique_sections`, `overlap_pair_sections`, `overlap_trio_sections`.\n",
    "\n",
    "In the plot below, black represents the unique sections. Red represents sections that are double overlaps (one of them is shifted in the y-axis for clarity purposes). And green represents the sections in triple overlaps (two of them shifted for clarity)."
   ]
  },
  {
   "cell_type": "code",
   "execution_count": null,
   "metadata": {},
   "outputs": [],
   "source": [
    "unique_sections, overlap_pair_sections, overlap_trio_sections = splicer.find_overlap(spectrum)\n",
    "\n",
    "for us in unique_sections:\n",
    "    plt.plot(us['wavelength'], us['flux'], color='k')\n",
    "    \n",
    "for ops in overlap_pair_sections:\n",
    "    plt.plot(ops[0]['wavelength'], ops[0]['flux'], color='C3', alpha=0.5)\n",
    "    plt.plot(ops[1]['wavelength'], ops[1]['flux'] + 1.0E-11, color='C3', alpha=0.5)\n",
    "    \n",
    "for ots in overlap_trio_sections:\n",
    "    plt.plot(ots[0]['wavelength'], ots[0]['flux'], color='C2', alpha=0.5)\n",
    "    plt.plot(ots[1]['wavelength'], ots[1]['flux'] - 0.7E-11, color='C2', alpha=0.5)\n",
    "    plt.plot(ots[2]['wavelength'], ots[2]['flux'] - 1.6E-11, color='C2', alpha=0.5)\n",
    "    \n",
    "_ = plt.xlabel(r'Wavelength (${\\rm \\AA}$)')\n",
    "_ = plt.ylabel(r'Flux density (erg s$^{-1}$ cm$^{-2}$ ${\\rm \\AA}^{-1}$)')"
   ]
  },
  {
   "cell_type": "markdown",
   "metadata": {},
   "source": [
    "3. Merge the overlapping sections using `splicer.merge_overlaps()`: This function takes either the double or triple overlap sections calculated above, and co-add them. The co-adding process begins by finding which section has the higher SNR, and then interpolates the other sibling section(s) into the same wavelength grid as the section with the higher SNR. The sibling sections are then merged by taking the weighted-average flux and error for each pixel, where the weights are the inverse-square of the errors. The merged pixels will then be assigned a data quality flag with the value `32768`, which correspond to a co-added pixel. This function returns the co-added section\n",
    "\n",
    "When co-adding pixels, the code identifies the data quality flag (DQ) of each one of them, and only co-adds pixels that have acceptable DQ flags. The user can specify which flags are acceptable. The default acceptable flags are: 0 = regular pixel, 64 = vignetted pixel, 128 = pixel in overscan region, 1024 = small blemish, 2048 = more than 30% of background pixels rejected by sigma-clipping in the data reduction."
   ]
  },
  {
   "cell_type": "code",
   "execution_count": null,
   "metadata": {},
   "outputs": [],
   "source": [
    "merged_pairs = [\n",
    "    splicer.merge_overlap(overlap_pair_sections[k])\n",
    "    for k in range(len(overlap_pair_sections))\n",
    "]\n",
    "\n",
    "merged_trios = [\n",
    "    splicer.merge_overlap(overlap_trio_sections[k])\n",
    "    for k in range(len(overlap_trio_sections))\n",
    "]"
   ]
  },
  {
   "cell_type": "markdown",
   "metadata": {},
   "source": [
    "By now we have three lists: `unique_sections`, `merged_pairs` and `merged_trios`. The next step is to concatenate everything in the correct order using the `splicer.splice()` function."
   ]
  },
  {
   "cell_type": "code",
   "execution_count": null,
   "metadata": {},
   "outputs": [],
   "source": [
    "wavelength, flux, uncertainty, dq = splicer.splice(\n",
    "    unique_sections, merged_pairs, merged_trios)\n",
    "\n",
    "# Plot the spliced spectrum\n",
    "plt.plot(wavelength, flux)\n",
    "_ = plt.xlabel(r'Wavelength (${\\rm \\AA}$)')\n",
    "_ = plt.ylabel(r'Flux density (erg s$^{-1}$ cm$^{-2}$ ${\\rm \\AA}^{-1}$)')"
   ]
  },
  {
   "cell_type": "markdown",
   "metadata": {},
   "source": [
    "As shown in the usage example, this whole process can be executed in one line using the `splicer.splice_pipeline()` function."
   ]
  },
  {
   "cell_type": "code",
   "execution_count": null,
   "metadata": {},
   "outputs": [],
   "source": [
    "spliced_spectrum = splicer.splice_pipeline(dataset, prefix, )\n",
    "plt.plot(spliced_spectrum['WAVELENGTH'], spliced_spectrum['FLUX'])\n",
    "_ = plt.xlabel(r'Wavelength (${\\rm \\AA}$)')\n",
    "_ = plt.ylabel(r'Flux density (erg s$^{-1}$ cm$^{-2}$ ${\\rm \\AA}^{-1}$)')"
   ]
  }
 ],
 "metadata": {
  "kernelspec": {
   "display_name": "Python 3 (ipykernel)",
   "language": "python",
   "name": "python3"
  },
  "language_info": {
   "codemirror_mode": {
    "name": "ipython",
    "version": 3
   },
   "file_extension": ".py",
   "mimetype": "text/x-python",
   "name": "python",
   "nbconvert_exporter": "python",
   "pygments_lexer": "ipython3",
   "version": "3.9.7"
  }
 },
 "nbformat": 4,
 "nbformat_minor": 1
}
