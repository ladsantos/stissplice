{
 "cells": [
  {
   "cell_type": "markdown",
   "metadata": {},
   "source": [
    "Usage example\n",
    "============\n",
    "\n",
    "In this example notebook we learn the basics of how to use `stissplice` to splice STIS *echèlle* spectra measured with *HST*. We start by importing the necessary packages."
   ]
  },
  {
   "cell_type": "code",
   "execution_count": null,
   "metadata": {},
   "outputs": [],
   "source": [
    "import matplotlib.pyplot as plt\n",
    "import matplotlib.pylab as pylab\n",
    "from stissplice import splicer, tools\n",
    "import numpy as np\n",
    "\n",
    "# Uncomment the next line if you have a MacBook with retina screen\n",
    "# %config InlineBackend.figure_format = 'retina'\n",
    "pylab.rcParams['figure.figsize'] = 9.0,6.5\n",
    "pylab.rcParams['font.size'] = 18"
   ]
  },
  {
   "cell_type": "markdown",
   "metadata": {},
   "source": [
    "STIS *echèlle* spectra are composed of many orders that overlap in their edges. Here's how it looks when we read an `x1d` file:"
   ]
  },
  {
   "cell_type": "code",
   "execution_count": null,
   "metadata": {},
   "outputs": [],
   "source": [
    "dataset = 'oblh01040'\n",
    "prefix = '../../data/'\n",
    "\n",
    "spectrum = splicer.read_spectrum(dataset, prefix)\n",
    "\n",
    "for s in spectrum:\n",
    "    plt.plot(s['wavelength'], s['flux'], alpha=0.3)\n",
    "_ = plt.xlabel(r'Wavelength (${\\rm \\AA}$)')\n",
    "_ = plt.ylabel(r'Flux density (erg s$^{-1}$ cm$^{-2}$ ${\\rm \\AA}^{-1}$)')"
   ]
  },
  {
   "cell_type": "markdown",
   "metadata": {},
   "source": [
    "If we zoom in, we can see the order overlap in more detail."
   ]
  },
  {
   "cell_type": "code",
   "execution_count": null,
   "metadata": {},
   "outputs": [],
   "source": [
    "for s in spectrum:\n",
    "    plt.plot(s['wavelength'], s['flux'], alpha=0.5)\n",
    "_ = plt.xlabel(r'Wavelength (${\\rm \\AA}$)')\n",
    "_ = plt.ylabel(r'Flux density (erg s$^{-1}$ cm$^{-2}$ ${\\rm \\AA}^{-1}$)')\n",
    "_ = plt.xlim(2200, 2300)\n",
    "_ = plt.ylim(-.5E-11, 1.5E-11)"
   ]
  },
  {
   "cell_type": "markdown",
   "metadata": {},
   "source": [
    "The objective of the `stissplice` package is precisely to deal with the order overlap and co-add them to produce a one-dimensional spectrum. We do that using the `splice_pipeline()` function."
   ]
  },
  {
   "cell_type": "code",
   "execution_count": null,
   "metadata": {},
   "outputs": [],
   "source": [
    "spliced_spectrum = splicer.splice_pipeline(dataset, prefix, )"
   ]
  },
  {
   "cell_type": "markdown",
   "metadata": {},
   "source": [
    "And now we plot it in black and compare it to the original spectra in colors."
   ]
  },
  {
   "cell_type": "code",
   "execution_count": null,
   "metadata": {},
   "outputs": [],
   "source": [
    "plt.plot(spliced_spectrum['WAVELENGTH'], spliced_spectrum['FLUX'], color='k')\n",
    "\n",
    "for s in spectrum:\n",
    "    plt.plot(s['wavelength'], s['flux'], alpha=0.3)\n",
    "_ = plt.xlabel(r'Wavelength (${\\rm \\AA}$)')\n",
    "_ = plt.ylabel(r'Flux density (erg s$^{-1}$ cm$^{-2}$ ${\\rm \\AA}^{-1}$)')\n",
    "_ = plt.ylim(-.5E-11, 3E-11)"
   ]
  },
  {
   "cell_type": "markdown",
   "metadata": {},
   "source": [
    "And here's how the zoomed-in part looks like:"
   ]
  },
  {
   "cell_type": "code",
   "execution_count": null,
   "metadata": {},
   "outputs": [],
   "source": [
    "plt.plot(spliced_spectrum['WAVELENGTH'], spliced_spectrum['FLUX'], color='k')\n",
    "\n",
    "for s in spectrum:\n",
    "    plt.plot(s['wavelength'], s['flux'], alpha=0.5)\n",
    "_ = plt.xlabel(r'Wavelength (${\\rm \\AA}$)')\n",
    "_ = plt.ylabel(r'Flux density (erg s$^{-1}$ cm$^{-2}$ ${\\rm \\AA}^{-1}$)')\n",
    "_ = plt.xlim(2200, 2300)\n",
    "_ = plt.ylim(-.5E-11, 1.5E-11)"
   ]
  }
 ],
 "metadata": {
  "kernelspec": {
   "display_name": "Python 3 (ipykernel)",
   "language": "python",
   "name": "python3"
  },
  "language_info": {
   "codemirror_mode": {
    "name": "ipython",
    "version": 3
   },
   "file_extension": ".py",
   "mimetype": "text/x-python",
   "name": "python",
   "nbconvert_exporter": "python",
   "pygments_lexer": "ipython3",
   "version": "3.9.7"
  }
 },
 "nbformat": 4,
 "nbformat_minor": 1
}
